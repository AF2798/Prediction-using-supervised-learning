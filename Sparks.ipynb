{
 "cells": [
  {
   "cell_type": "markdown",
   "id": "8d307434",
   "metadata": {},
   "source": [
    "Task 1 : Prediction using Supervised learning\n"
   ]
  },
  {
   "cell_type": "markdown",
   "id": "adbb92c9",
   "metadata": {},
   "source": [
    "Author : Ameni feteh"
   ]
  },
  {
   "cell_type": "code",
   "execution_count": 4,
   "id": "8b7e62f4",
   "metadata": {},
   "outputs": [],
   "source": [
    "#Importing the needed librairies \n",
    "import pandas as pd\n",
    "from  sklearn.model_selection import train_test_split\n",
    "from sklearn.linear_model import LinearRegression\n",
    "import matplotlib.pyplot as plt  \n",
    "from sklearn import metrics\n",
    "import numpy as np"
   ]
  },
  {
   "cell_type": "code",
   "execution_count": 5,
   "id": "b3209151",
   "metadata": {},
   "outputs": [
    {
     "data": {
      "text/html": [
       "<div>\n",
       "<style scoped>\n",
       "    .dataframe tbody tr th:only-of-type {\n",
       "        vertical-align: middle;\n",
       "    }\n",
       "\n",
       "    .dataframe tbody tr th {\n",
       "        vertical-align: top;\n",
       "    }\n",
       "\n",
       "    .dataframe thead th {\n",
       "        text-align: right;\n",
       "    }\n",
       "</style>\n",
       "<table border=\"1\" class=\"dataframe\">\n",
       "  <thead>\n",
       "    <tr style=\"text-align: right;\">\n",
       "      <th></th>\n",
       "      <th>Hours</th>\n",
       "      <th>Scores</th>\n",
       "    </tr>\n",
       "  </thead>\n",
       "  <tbody>\n",
       "    <tr>\n",
       "      <th>0</th>\n",
       "      <td>2.5</td>\n",
       "      <td>21</td>\n",
       "    </tr>\n",
       "    <tr>\n",
       "      <th>1</th>\n",
       "      <td>5.1</td>\n",
       "      <td>47</td>\n",
       "    </tr>\n",
       "    <tr>\n",
       "      <th>2</th>\n",
       "      <td>3.2</td>\n",
       "      <td>27</td>\n",
       "    </tr>\n",
       "    <tr>\n",
       "      <th>3</th>\n",
       "      <td>8.5</td>\n",
       "      <td>75</td>\n",
       "    </tr>\n",
       "    <tr>\n",
       "      <th>4</th>\n",
       "      <td>3.5</td>\n",
       "      <td>30</td>\n",
       "    </tr>\n",
       "  </tbody>\n",
       "</table>\n",
       "</div>"
      ],
      "text/plain": [
       "   Hours  Scores\n",
       "0    2.5      21\n",
       "1    5.1      47\n",
       "2    3.2      27\n",
       "3    8.5      75\n",
       "4    3.5      30"
      ]
     },
     "execution_count": 5,
     "metadata": {},
     "output_type": "execute_result"
    }
   ],
   "source": [
    "#Importing the Dataset\n",
    "url='https://raw.githubusercontent.com/AdiPersonalWorks/Random/master/student_scores%20-%20student_scores.csv'\n",
    "data=pd.read_csv(url)\n",
    "data.head()\n"
   ]
  },
  {
   "cell_type": "code",
   "execution_count": 29,
   "id": "fdff31ba",
   "metadata": {},
   "outputs": [
    {
     "data": {
      "text/plain": [
       "(25, 2)"
      ]
     },
     "execution_count": 29,
     "metadata": {},
     "output_type": "execute_result"
    }
   ],
   "source": [
    "data.shape"
   ]
  },
  {
   "cell_type": "code",
   "execution_count": 30,
   "id": "b6cc85a3",
   "metadata": {},
   "outputs": [],
   "source": [
    "#Separation between the Target data and the Features\n",
    "Y=data['Scores'].values\n",
    "X=data.drop('Scores',axis=1).values\n"
   ]
  },
  {
   "cell_type": "code",
   "execution_count": 22,
   "id": "5cfa91ec",
   "metadata": {},
   "outputs": [
    {
     "data": {
      "image/png": "[encoded data removed]",
      "text/plain": [
       "<Figure size 432x288 with 1 Axes>"
      ]
     },
     "metadata": {
      "needs_background": "light"
     },
     "output_type": "display_data"
    }
   ],
   "source": [
    "#Data Visualization\n",
    "plt.scatter(X, Y)\n",
    "plt.xlabel('Hours of studies')\n",
    "plt.ylabel('Scores')\n",
    "plt.title('The scores by hours of studies')\n",
    "plt.show()"
   ]
  },
  {
   "cell_type": "code",
   "execution_count": 23,
   "id": "508b3440",
   "metadata": {},
   "outputs": [],
   "source": [
    "#Splitting the data into Taining and Testing data\n",
    "X_train,X_test,Y_train,Y_test=train_test_split(X,Y,test_size=0.2,random_state=42)"
   ]
  },
  {
   "cell_type": "code",
   "execution_count": 24,
   "id": "10427c55",
   "metadata": {},
   "outputs": [
    {
     "data": {
      "text/plain": [
       "LinearRegression()"
      ]
     },
     "execution_count": 24,
     "metadata": {},
     "output_type": "execute_result"
    }
   ],
   "source": [
    "#Training the Algorithm\n",
    "model=LinearRegression()\n",
    "model.fit(X_train,Y_train)"
   ]
  },
  {
   "cell_type": "code",
   "execution_count": 21,
   "id": "e0fb3bc9",
   "metadata": {},
   "outputs": [
    {
     "data": {
      "image/png": "[encoded data removed]",
      "text/plain": [
       "<Figure size 432x288 with 1 Axes>"
      ]
     },
     "metadata": {
      "needs_background": "light"
     },
     "output_type": "display_data"
    }
   ],
   "source": [
    "# Plotting the regression line\n",
    "line = model.coef_*X_train+model.intercept_\n",
    "\n",
    "\n",
    "plt.scatter(X_train, Y_train)\n",
    "X_train.reshape(-1,1)\n",
    "plt.plot(X_train, line, color='red')\n",
    "plt.show()"
   ]
  },
  {
   "cell_type": "code",
   "execution_count": 15,
   "id": "c35f05fe",
   "metadata": {},
   "outputs": [
    {
     "name": "stdout",
     "output_type": "stream",
     "text": [
      "The predicted values for Y:  [83.18814104 27.03208774 27.03208774 69.63323162 59.95115347]\n",
      "The real values For Y: [81 30 21 76 62]\n"
     ]
    }
   ],
   "source": [
    "#Make the prediction on the test data\n",
    "Y_pred=model.predict(X_test)\n",
    "print('The predicted values for Y: ',Y_pred)\n",
    "print('The real values For Y:',Y_test)"
   ]
  },
  {
   "cell_type": "code",
   "execution_count": 16,
   "id": "eea50374",
   "metadata": {},
   "outputs": [
    {
     "name": "stdout",
     "output_type": "stream",
     "text": [
      "The Score predicted is : 92.38611528261494\n"
     ]
    }
   ],
   "source": [
    "#Predict our own data\n",
    "h=np.array([[9.25]])\n",
    "prediction= model.predict(h)\n",
    "print('The Score predicted is :' ,prediction[0])"
   ]
  },
  {
   "cell_type": "code",
   "execution_count": 28,
   "id": "3e3c5e00",
   "metadata": {},
   "outputs": [
    {
     "name": "stdout",
     "output_type": "stream",
     "text": [
      "The mean absolute error for this model is : 3.9207511902099244\n",
      "The mean squared error for this model is : 18.943211722315272\n"
     ]
    }
   ],
   "source": [
    "#Model Evaluation\n",
    "mae = metrics.mean_absolute_error(Y_test, Y_pred)\n",
    "mse=  metrics.mean_squared_error(Y_test, Y_pred)\n",
    "print('The mean absolute error for this model is :' ,mae)\n",
    "print('The mean squared error for this model is :' ,mse)"
   ]
  }
 ],
 "metadata": {
  "kernelspec": {
   "display_name": "Python 3 (ipykernel)",
   "language": "python",
   "name": "python3"
  },
  "language_info": {
   "codemirror_mode": {
    "name": "ipython",
    "version": 3
   },
   "file_extension": ".py",
   "mimetype": "text/x-python",
   "name": "python",
   "nbconvert_exporter": "python",
   "pygments_lexer": "ipython3",
   "version": "3.9.7"
  }
 },
 "nbformat": 4,
 "nbformat_minor": 5
}
